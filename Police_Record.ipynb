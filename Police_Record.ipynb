{
  "nbformat": 4,
  "nbformat_minor": 0,
  "metadata": {
    "colab": {
      "provenance": [],
      "authorship_tag": "ABX9TyPyvxrBR4NUHWYbzlXYVrsc",
      "include_colab_link": true
    },
    "kernelspec": {
      "name": "ir",
      "display_name": "R"
    },
    "language_info": {
      "name": "R"
    }
  },
  "cells": [
    {
      "cell_type": "markdown",
      "metadata": {
        "id": "view-in-github",
        "colab_type": "text"
      },
      "source": [
        "<a href=\"https://colab.research.google.com/github/anila-saju/R-programming/blob/main/Police_Record.ipynb\" target=\"_parent\"><img src=\"https://colab.research.google.com/assets/colab-badge.svg\" alt=\"Open In Colab\"/></a>"
      ]
    },
    {
      "cell_type": "code",
      "source": [
        "install.packages(\"psych\")"
      ],
      "metadata": {
        "colab": {
          "base_uri": "https://localhost:8080/"
        },
        "id": "cVIZY-RUS5Yg",
        "outputId": "6de18572-cebf-45f2-ece2-444da2bc754b"
      },
      "execution_count": 20,
      "outputs": [
        {
          "output_type": "stream",
          "name": "stderr",
          "text": [
            "Installing package into ‘/usr/local/lib/R/site-library’\n",
            "(as ‘lib’ is unspecified)\n",
            "\n",
            "also installing the dependencies ‘mnormt’, ‘GPArotation’\n",
            "\n",
            "\n"
          ]
        }
      ]
    },
    {
      "cell_type": "code",
      "source": [
        "data <- read.csv(\"Police_Arrests_20240702.csv\")\n",
        "describe(data)"
      ],
      "metadata": {
        "colab": {
          "base_uri": "https://localhost:8080/",
          "height": 431
        },
        "id": "EYEX4uO-zUTA",
        "outputId": "08678899-a174-46a0-d0fa-164eaa63a931"
      },
      "execution_count": 37,
      "outputs": [
        {
          "output_type": "display_data",
          "data": {
            "text/html": [
              "<table class=\"dataframe\">\n",
              "<caption>A psych: 10 × 13</caption>\n",
              "<thead>\n",
              "\t<tr><th></th><th scope=col>vars</th><th scope=col>n</th><th scope=col>mean</th><th scope=col>sd</th><th scope=col>median</th><th scope=col>trimmed</th><th scope=col>mad</th><th scope=col>min</th><th scope=col>max</th><th scope=col>range</th><th scope=col>skew</th><th scope=col>kurtosis</th><th scope=col>se</th></tr>\n",
              "\t<tr><th></th><th scope=col>&lt;int&gt;</th><th scope=col>&lt;dbl&gt;</th><th scope=col>&lt;dbl&gt;</th><th scope=col>&lt;dbl&gt;</th><th scope=col>&lt;dbl&gt;</th><th scope=col>&lt;dbl&gt;</th><th scope=col>&lt;dbl&gt;</th><th scope=col>&lt;dbl&gt;</th><th scope=col>&lt;dbl&gt;</th><th scope=col>&lt;dbl&gt;</th><th scope=col>&lt;dbl&gt;</th><th scope=col>&lt;dbl&gt;</th><th scope=col>&lt;dbl&gt;</th></tr>\n",
              "</thead>\n",
              "<tbody>\n",
              "\t<tr><th scope=row>ID.Reference.Number</th><td> 1</td><td>23510</td><td>1.175550e+04</td><td>6786.8967504</td><td>11755.5</td><td>11755.500000</td><td>8713.9815</td><td>1</td><td>23510</td><td>23509</td><td> 0.000000000</td><td>-1.20015313</td><td>44.263416045</td></tr>\n",
              "\t<tr><th scope=row>Subject.s.race*</th><td> 2</td><td>23510</td><td>4.413271e+00</td><td>   1.5354733</td><td>    3.0</td><td>    4.429020</td><td>   1.4826</td><td>1</td><td>    6</td><td>    5</td><td> 0.026059192</td><td>-1.90163138</td><td> 0.010014193</td></tr>\n",
              "\t<tr><th scope=row>Subject.s.gender*</th><td> 3</td><td>23510</td><td>1.789749e+00</td><td>   0.4074955</td><td>    2.0</td><td>    1.862186</td><td>   0.0000</td><td>1</td><td>    2</td><td>    1</td><td>-1.422036525</td><td> 0.02218883</td><td> 0.002657642</td></tr>\n",
              "\t<tr><th scope=row>Subject.s.age</th><td> 4</td><td>23510</td><td>3.181314e+01</td><td>  12.9469088</td><td>   30.0</td><td>   30.604902</td><td>  13.3434</td><td>1</td><td>   99</td><td>   98</td><td> 0.801957323</td><td> 0.31919894</td><td> 0.084438357</td></tr>\n",
              "\t<tr><th scope=row>Ethnicity*</th><td> 5</td><td>23510</td><td>1.695789e+00</td><td>   0.4600822</td><td>    2.0</td><td>    1.744736</td><td>   0.0000</td><td>1</td><td>    2</td><td>    1</td><td>-0.851068283</td><td>-1.27573704</td><td> 0.003000607</td></tr>\n",
              "\t<tr><th scope=row>District.of.occurrence</th><td> 6</td><td>23408</td><td>3.989192e+00</td><td>   1.7485875</td><td>    4.0</td><td>    4.027499</td><td>   1.4826</td><td>1</td><td>    8</td><td>    7</td><td> 0.033780746</td><td>-0.60270873</td><td> 0.011428921</td></tr>\n",
              "\t<tr><th scope=row>Adjacent.to.School</th><td> 7</td><td>23510</td><td>8.515525e-02</td><td>   0.2791185</td><td>    0.0</td><td>    0.000000</td><td>   0.0000</td><td>0</td><td>    1</td><td>    1</td><td> 2.972408261</td><td> 6.83550163</td><td> 0.001820381</td></tr>\n",
              "\t<tr><th scope=row>Assigned.Division*</th><td> 8</td><td>23510</td><td>8.383922e+00</td><td>   6.5750516</td><td>    6.0</td><td>    7.186304</td><td>   2.9652</td><td>1</td><td>   25</td><td>   24</td><td> 1.467342778</td><td> 0.84173896</td><td> 0.042881785</td></tr>\n",
              "\t<tr><th scope=row>Assigned.Bureau*</th><td> 9</td><td>23510</td><td>3.951808e+00</td><td>   1.6558821</td><td>    5.0</td><td>    4.189760</td><td>   0.0000</td><td>1</td><td>    5</td><td>    4</td><td>-1.049778568</td><td>-0.76908821</td><td> 0.010799486</td></tr>\n",
              "\t<tr><th scope=row>Event.Date.Time*</th><td>10</td><td>23510</td><td>1.016307e+04</td><td>5873.0911466</td><td>10162.5</td><td>10162.022490</td><td>7544.9514</td><td>1</td><td>20312</td><td>20311</td><td> 0.001908457</td><td>-1.20512838</td><td>38.303673454</td></tr>\n",
              "</tbody>\n",
              "</table>\n"
            ],
            "text/markdown": "\nA psych: 10 × 13\n\n| <!--/--> | vars &lt;int&gt; | n &lt;dbl&gt; | mean &lt;dbl&gt; | sd &lt;dbl&gt; | median &lt;dbl&gt; | trimmed &lt;dbl&gt; | mad &lt;dbl&gt; | min &lt;dbl&gt; | max &lt;dbl&gt; | range &lt;dbl&gt; | skew &lt;dbl&gt; | kurtosis &lt;dbl&gt; | se &lt;dbl&gt; |\n|---|---|---|---|---|---|---|---|---|---|---|---|---|---|\n| ID.Reference.Number |  1 | 23510 | 1.175550e+04 | 6786.8967504 | 11755.5 | 11755.500000 | 8713.9815 | 1 | 23510 | 23509 |  0.000000000 | -1.20015313 | 44.263416045 |\n| Subject.s.race* |  2 | 23510 | 4.413271e+00 |    1.5354733 |     3.0 |     4.429020 |    1.4826 | 1 |     6 |     5 |  0.026059192 | -1.90163138 |  0.010014193 |\n| Subject.s.gender* |  3 | 23510 | 1.789749e+00 |    0.4074955 |     2.0 |     1.862186 |    0.0000 | 1 |     2 |     1 | -1.422036525 |  0.02218883 |  0.002657642 |\n| Subject.s.age |  4 | 23510 | 3.181314e+01 |   12.9469088 |    30.0 |    30.604902 |   13.3434 | 1 |    99 |    98 |  0.801957323 |  0.31919894 |  0.084438357 |\n| Ethnicity* |  5 | 23510 | 1.695789e+00 |    0.4600822 |     2.0 |     1.744736 |    0.0000 | 1 |     2 |     1 | -0.851068283 | -1.27573704 |  0.003000607 |\n| District.of.occurrence |  6 | 23408 | 3.989192e+00 |    1.7485875 |     4.0 |     4.027499 |    1.4826 | 1 |     8 |     7 |  0.033780746 | -0.60270873 |  0.011428921 |\n| Adjacent.to.School |  7 | 23510 | 8.515525e-02 |    0.2791185 |     0.0 |     0.000000 |    0.0000 | 0 |     1 |     1 |  2.972408261 |  6.83550163 |  0.001820381 |\n| Assigned.Division* |  8 | 23510 | 8.383922e+00 |    6.5750516 |     6.0 |     7.186304 |    2.9652 | 1 |    25 |    24 |  1.467342778 |  0.84173896 |  0.042881785 |\n| Assigned.Bureau* |  9 | 23510 | 3.951808e+00 |    1.6558821 |     5.0 |     4.189760 |    0.0000 | 1 |     5 |     4 | -1.049778568 | -0.76908821 |  0.010799486 |\n| Event.Date.Time* | 10 | 23510 | 1.016307e+04 | 5873.0911466 | 10162.5 | 10162.022490 | 7544.9514 | 1 | 20312 | 20311 |  0.001908457 | -1.20512838 | 38.303673454 |\n\n",
            "text/latex": "A psych: 10 × 13\n\\begin{tabular}{r|lllllllllllll}\n  & vars & n & mean & sd & median & trimmed & mad & min & max & range & skew & kurtosis & se\\\\\n  & <int> & <dbl> & <dbl> & <dbl> & <dbl> & <dbl> & <dbl> & <dbl> & <dbl> & <dbl> & <dbl> & <dbl> & <dbl>\\\\\n\\hline\n\tID.Reference.Number &  1 & 23510 & 1.175550e+04 & 6786.8967504 & 11755.5 & 11755.500000 & 8713.9815 & 1 & 23510 & 23509 &  0.000000000 & -1.20015313 & 44.263416045\\\\\n\tSubject.s.race* &  2 & 23510 & 4.413271e+00 &    1.5354733 &     3.0 &     4.429020 &    1.4826 & 1 &     6 &     5 &  0.026059192 & -1.90163138 &  0.010014193\\\\\n\tSubject.s.gender* &  3 & 23510 & 1.789749e+00 &    0.4074955 &     2.0 &     1.862186 &    0.0000 & 1 &     2 &     1 & -1.422036525 &  0.02218883 &  0.002657642\\\\\n\tSubject.s.age &  4 & 23510 & 3.181314e+01 &   12.9469088 &    30.0 &    30.604902 &   13.3434 & 1 &    99 &    98 &  0.801957323 &  0.31919894 &  0.084438357\\\\\n\tEthnicity* &  5 & 23510 & 1.695789e+00 &    0.4600822 &     2.0 &     1.744736 &    0.0000 & 1 &     2 &     1 & -0.851068283 & -1.27573704 &  0.003000607\\\\\n\tDistrict.of.occurrence &  6 & 23408 & 3.989192e+00 &    1.7485875 &     4.0 &     4.027499 &    1.4826 & 1 &     8 &     7 &  0.033780746 & -0.60270873 &  0.011428921\\\\\n\tAdjacent.to.School &  7 & 23510 & 8.515525e-02 &    0.2791185 &     0.0 &     0.000000 &    0.0000 & 0 &     1 &     1 &  2.972408261 &  6.83550163 &  0.001820381\\\\\n\tAssigned.Division* &  8 & 23510 & 8.383922e+00 &    6.5750516 &     6.0 &     7.186304 &    2.9652 & 1 &    25 &    24 &  1.467342778 &  0.84173896 &  0.042881785\\\\\n\tAssigned.Bureau* &  9 & 23510 & 3.951808e+00 &    1.6558821 &     5.0 &     4.189760 &    0.0000 & 1 &     5 &     4 & -1.049778568 & -0.76908821 &  0.010799486\\\\\n\tEvent.Date.Time* & 10 & 23510 & 1.016307e+04 & 5873.0911466 & 10162.5 & 10162.022490 & 7544.9514 & 1 & 20312 & 20311 &  0.001908457 & -1.20512838 & 38.303673454\\\\\n\\end{tabular}\n",
            "text/plain": [
              "                       vars n     mean         sd           median \n",
              "ID.Reference.Number     1   23510 1.175550e+04 6786.8967504 11755.5\n",
              "Subject.s.race*         2   23510 4.413271e+00    1.5354733     3.0\n",
              "Subject.s.gender*       3   23510 1.789749e+00    0.4074955     2.0\n",
              "Subject.s.age           4   23510 3.181314e+01   12.9469088    30.0\n",
              "Ethnicity*              5   23510 1.695789e+00    0.4600822     2.0\n",
              "District.of.occurrence  6   23408 3.989192e+00    1.7485875     4.0\n",
              "Adjacent.to.School      7   23510 8.515525e-02    0.2791185     0.0\n",
              "Assigned.Division*      8   23510 8.383922e+00    6.5750516     6.0\n",
              "Assigned.Bureau*        9   23510 3.951808e+00    1.6558821     5.0\n",
              "Event.Date.Time*       10   23510 1.016307e+04 5873.0911466 10162.5\n",
              "                       trimmed      mad       min max   range skew        \n",
              "ID.Reference.Number    11755.500000 8713.9815 1   23510 23509  0.000000000\n",
              "Subject.s.race*            4.429020    1.4826 1       6     5  0.026059192\n",
              "Subject.s.gender*          1.862186    0.0000 1       2     1 -1.422036525\n",
              "Subject.s.age             30.604902   13.3434 1      99    98  0.801957323\n",
              "Ethnicity*                 1.744736    0.0000 1       2     1 -0.851068283\n",
              "District.of.occurrence     4.027499    1.4826 1       8     7  0.033780746\n",
              "Adjacent.to.School         0.000000    0.0000 0       1     1  2.972408261\n",
              "Assigned.Division*         7.186304    2.9652 1      25    24  1.467342778\n",
              "Assigned.Bureau*           4.189760    0.0000 1       5     4 -1.049778568\n",
              "Event.Date.Time*       10162.022490 7544.9514 1   20312 20311  0.001908457\n",
              "                       kurtosis    se          \n",
              "ID.Reference.Number    -1.20015313 44.263416045\n",
              "Subject.s.race*        -1.90163138  0.010014193\n",
              "Subject.s.gender*       0.02218883  0.002657642\n",
              "Subject.s.age           0.31919894  0.084438357\n",
              "Ethnicity*             -1.27573704  0.003000607\n",
              "District.of.occurrence -0.60270873  0.011428921\n",
              "Adjacent.to.School      6.83550163  0.001820381\n",
              "Assigned.Division*      0.84173896  0.042881785\n",
              "Assigned.Bureau*       -0.76908821  0.010799486\n",
              "Event.Date.Time*       -1.20512838 38.303673454"
            ]
          },
          "metadata": {}
        }
      ]
    },
    {
      "cell_type": "code",
      "execution_count": 23,
      "metadata": {
        "colab": {
          "base_uri": "https://localhost:8080/",
          "height": 34
        },
        "id": "cvr6bnN1td2E",
        "outputId": "89892b13-52a2-484f-e86c-9f7584dabcd7"
      },
      "outputs": [
        {
          "output_type": "display_data",
          "data": {
            "text/html": [
              "31.8131433432582"
            ],
            "text/markdown": "31.8131433432582",
            "text/latex": "31.8131433432582",
            "text/plain": [
              "[1] 31.81314"
            ]
          },
          "metadata": {}
        }
      ],
      "source": [
        "# •\tWhat is the average age of the subjects in the dataset?\n",
        "library(psych)\n",
        "data <- read.csv(\"Police_Arrests_20240702.csv\")\n",
        "mean(data$Subject.s.age, na.rm = TRUE)"
      ]
    },
    {
      "cell_type": "code",
      "source": [
        "# •\tWhat is the median age of the subjects?\n",
        "data <- read.csv(\"Police_Arrests_20240702.csv\")\n",
        "median(data$Subject.s.age)"
      ],
      "metadata": {
        "colab": {
          "base_uri": "https://localhost:8080/",
          "height": 34
        },
        "id": "O1C1xZzfzTRz",
        "outputId": "d0d37e19-eab0-41b6-930a-008a386719d4"
      },
      "execution_count": 7,
      "outputs": [
        {
          "output_type": "display_data",
          "data": {
            "text/html": [
              "30"
            ],
            "text/markdown": "30",
            "text/latex": "30",
            "text/plain": [
              "[1] 30"
            ]
          },
          "metadata": {}
        }
      ]
    },
    {
      "cell_type": "code",
      "source": [
        "# •\tHow many unique races are represented in the dataset?\n",
        "library(dplyr)\n",
        "data <- read.csv(\"Police_Arrests_20240702.csv\")\n",
        "df <- unique(data$Subject.s.race)\n",
        "# df <- table(data$Subject.s.race)\n",
        "df\n",
        "# length(df)\n",
        "n_distinct(df)"
      ],
      "metadata": {
        "colab": {
          "base_uri": "https://localhost:8080/",
          "height": 121
        },
        "id": "BrV2JZro2F6g",
        "outputId": "96217207-509c-4cbd-d905-83dff2aa2182"
      },
      "execution_count": 45,
      "outputs": [
        {
          "output_type": "display_data",
          "data": {
            "text/plain": [
              "\n",
              "American Indian/ALSK Natv                     Asian    Black/African American \n",
              "                       36                       632                     11495 \n",
              "Hawaiian/Pacific Islander                   Unknown                     White \n",
              "                       20                        71                     11256 "
            ]
          },
          "metadata": {}
        },
        {
          "output_type": "display_data",
          "data": {
            "text/html": [
              "6"
            ],
            "text/markdown": "6",
            "text/latex": "6",
            "text/plain": [
              "[1] 6"
            ]
          },
          "metadata": {}
        }
      ]
    },
    {
      "cell_type": "code",
      "source": [
        "# •\tHow many incidents involved subjects aged 25 or younger?\n",
        "library(dplyr)\n",
        "data <- read.csv(\"Police_Arrests_20240702.csv\")\n",
        "# age <- subset(data, Subject.s.age <= 25)\n",
        "# age\n",
        "# school <- sum(data$Subject.s.age <= 25)\n",
        "# school\n",
        "nrow(subset(data, Subject.s.age <= 25))"
      ],
      "metadata": {
        "colab": {
          "base_uri": "https://localhost:8080/",
          "height": 34
        },
        "id": "6ahFSS6d5E8X",
        "outputId": "e1c2500f-822f-4158-d31a-6373c8eb6eca"
      },
      "execution_count": 38,
      "outputs": [
        {
          "output_type": "display_data",
          "data": {
            "text/html": [
              "8617"
            ],
            "text/markdown": "8617",
            "text/latex": "8617",
            "text/plain": [
              "[1] 8617"
            ]
          },
          "metadata": {}
        }
      ]
    },
    {
      "cell_type": "code",
      "source": [
        "# •\tHow many incidents occurred adjacent to a school?\n",
        "data <- read.csv(\"Police_Arrests_20240702.csv\")\n",
        "school <- table(data$Adjacent.to.School)\n",
        "# school <- sum(data$Adjacent.to.School, na.rm = TRUE)\n",
        "school"
      ],
      "metadata": {
        "colab": {
          "base_uri": "https://localhost:8080/",
          "height": 69
        },
        "id": "-KH6GF0fBX7s",
        "outputId": "1b68fa5b-1b09-40fe-8516-698970690be0"
      },
      "execution_count": 43,
      "outputs": [
        {
          "output_type": "display_data",
          "data": {
            "text/plain": [
              "\n",
              "    0     1 \n",
              "21508  2002 "
            ]
          },
          "metadata": {}
        }
      ]
    },
    {
      "cell_type": "code",
      "source": [
        "# •\tHow many incidents occurred in each district?\n",
        "data <- read.csv(\"Police_Arrests_20240702.csv\")\n",
        "district <- table(data$District.of.occurrence)\n",
        "district\n",
        "table(data$Subject.s.race)\n",
        "nrow(subset(data, Subject.s.race == \"Unknown\"))"
      ],
      "metadata": {
        "colab": {
          "base_uri": "https://localhost:8080/",
          "height": 173
        },
        "id": "CiZpJZXKFVt9",
        "outputId": "57d2179c-6631-47dd-df30-3ac425f9030b"
      },
      "execution_count": 51,
      "outputs": [
        {
          "output_type": "display_data",
          "data": {
            "text/plain": [
              "\n",
              "   1    2    3    4    5    6    8 \n",
              "2513 2196 4782 4563 3820 4748  786 "
            ]
          },
          "metadata": {}
        },
        {
          "output_type": "display_data",
          "data": {
            "text/plain": [
              "\n",
              "American Indian/ALSK Natv                     Asian    Black/African American \n",
              "                       36                       632                     11495 \n",
              "Hawaiian/Pacific Islander                   Unknown                     White \n",
              "                       20                        71                     11256 "
            ]
          },
          "metadata": {}
        },
        {
          "output_type": "display_data",
          "data": {
            "text/html": [
              "71"
            ],
            "text/markdown": "71",
            "text/latex": "71",
            "text/plain": [
              "[1] 71"
            ]
          },
          "metadata": {}
        }
      ]
    },
    {
      "cell_type": "code",
      "source": [
        "# •\tWhat is the average age of subjects by race?\n",
        "library(dplyr)\n",
        "data <- read.csv(\"Police_Arrests_20240702.csv\")\n",
        "# average_age_by_race <- aggregate(Subject.s.age ~ Subject.s.race, data, mean, na.rm = TRUE)\n",
        "# average_age_by_race\n",
        "# avg <- tapply(data$Subject.s.age, data$Subject.s.race, mean, na.rm = TRUE)\n",
        "# as.data.frame(avg)\n",
        "# unique(data$Subject.s.race)\n",
        "df <- group_by(data, Subject.s.race)\n",
        "summarise(df, average_age = mean(Subject.s.age, na.rm = TRUE))"
      ],
      "metadata": {
        "colab": {
          "base_uri": "https://localhost:8080/",
          "height": 286
        },
        "id": "LgWNhqd4F4R9",
        "outputId": "d9ba758f-2b93-4c45-c05e-e5c902197249"
      },
      "execution_count": 5,
      "outputs": [
        {
          "output_type": "display_data",
          "data": {
            "text/html": [
              "<table class=\"dataframe\">\n",
              "<caption>A tibble: 6 × 2</caption>\n",
              "<thead>\n",
              "\t<tr><th scope=col>Subject.s.race</th><th scope=col>average_age</th></tr>\n",
              "\t<tr><th scope=col>&lt;chr&gt;</th><th scope=col>&lt;dbl&gt;</th></tr>\n",
              "</thead>\n",
              "<tbody>\n",
              "\t<tr><td>American Indian/ALSK Natv</td><td>37.66667</td></tr>\n",
              "\t<tr><td>Asian                    </td><td>37.95886</td></tr>\n",
              "\t<tr><td>Black/African American   </td><td>30.92605</td></tr>\n",
              "\t<tr><td>Hawaiian/Pacific Islander</td><td>28.30000</td></tr>\n",
              "\t<tr><td>Unknown                  </td><td>31.81690</td></tr>\n",
              "\t<tr><td>White                    </td><td>32.36150</td></tr>\n",
              "</tbody>\n",
              "</table>\n"
            ],
            "text/markdown": "\nA tibble: 6 × 2\n\n| Subject.s.race &lt;chr&gt; | average_age &lt;dbl&gt; |\n|---|---|\n| American Indian/ALSK Natv | 37.66667 |\n| Asian                     | 37.95886 |\n| Black/African American    | 30.92605 |\n| Hawaiian/Pacific Islander | 28.30000 |\n| Unknown                   | 31.81690 |\n| White                     | 32.36150 |\n\n",
            "text/latex": "A tibble: 6 × 2\n\\begin{tabular}{ll}\n Subject.s.race & average\\_age\\\\\n <chr> & <dbl>\\\\\n\\hline\n\t American Indian/ALSK Natv & 37.66667\\\\\n\t Asian                     & 37.95886\\\\\n\t Black/African American    & 30.92605\\\\\n\t Hawaiian/Pacific Islander & 28.30000\\\\\n\t Unknown                   & 31.81690\\\\\n\t White                     & 32.36150\\\\\n\\end{tabular}\n",
            "text/plain": [
              "  Subject.s.race            average_age\n",
              "1 American Indian/ALSK Natv 37.66667   \n",
              "2 Asian                     37.95886   \n",
              "3 Black/African American    30.92605   \n",
              "4 Hawaiian/Pacific Islander 28.30000   \n",
              "5 Unknown                   31.81690   \n",
              "6 White                     32.36150   "
            ]
          },
          "metadata": {}
        }
      ]
    },
    {
      "cell_type": "code",
      "source": [
        "# •\tWhat is the count of incidents by gender?\n",
        "data <- read.csv(\"Police_Arrests_20240702.csv\")\n",
        "gender <- table(data$Subject.s.gender)\n",
        "gender"
      ],
      "metadata": {
        "colab": {
          "base_uri": "https://localhost:8080/",
          "height": 69
        },
        "id": "LhcdHBTSN4B3",
        "outputId": "6bb477f7-f0d4-4fe9-89cf-9beb7c598f2f"
      },
      "execution_count": 130,
      "outputs": [
        {
          "output_type": "display_data",
          "data": {
            "text/plain": [
              "\n",
              "Female   Male \n",
              "  4943  18567 "
            ]
          },
          "metadata": {}
        }
      ]
    },
    {
      "cell_type": "code",
      "source": [
        "# •\tWhat is the distribution of incidents by ethnicity?\n",
        "data <- read.csv(\"Police_Arrests_20240702.csv\")\n",
        "ethnicity <- table(data$Ethnicity)\n",
        "ethnicity\n"
      ],
      "metadata": {
        "colab": {
          "base_uri": "https://localhost:8080/",
          "height": 69
        },
        "id": "AtCLIy4zOb9l",
        "outputId": "b4ae9f3a-9cad-424e-df67-ee1f17ecf198"
      },
      "execution_count": 136,
      "outputs": [
        {
          "output_type": "display_data",
          "data": {
            "text/plain": [
              "\n",
              "    HISPANIC NON-HISPANIC \n",
              "        7152        16358 "
            ]
          },
          "metadata": {}
        }
      ]
    },
    {
      "cell_type": "code",
      "source": [
        "install.packages(\"lubridate\")"
      ],
      "metadata": {
        "colab": {
          "base_uri": "https://localhost:8080/"
        },
        "id": "4cLkiR0jqJ8v",
        "outputId": "ec230091-9f38-4128-a26a-05ae0a43790f"
      },
      "execution_count": 76,
      "outputs": [
        {
          "output_type": "stream",
          "name": "stderr",
          "text": [
            "Installing package into ‘/usr/local/lib/R/site-library’\n",
            "(as ‘lib’ is unspecified)\n",
            "\n"
          ]
        }
      ]
    },
    {
      "cell_type": "code",
      "source": [
        "install.packages(\"psych\")"
      ],
      "metadata": {
        "colab": {
          "base_uri": "https://localhost:8080/"
        },
        "id": "U3I1anMjhOex",
        "outputId": "69344888-17a6-4ce2-e3b3-46f0195c43e4"
      },
      "execution_count": 2,
      "outputs": [
        {
          "output_type": "stream",
          "name": "stderr",
          "text": [
            "Installing package into ‘/usr/local/lib/R/site-library’\n",
            "(as ‘lib’ is unspecified)\n",
            "\n",
            "also installing the dependencies ‘mnormt’, ‘GPArotation’\n",
            "\n",
            "\n"
          ]
        }
      ]
    },
    {
      "cell_type": "code",
      "source": [
        "install.packages(\"dplyr\")"
      ],
      "metadata": {
        "colab": {
          "base_uri": "https://localhost:8080/"
        },
        "id": "mgszu7cPhoGq",
        "outputId": "6d64f4f7-c1d1-4fe1-b643-1b74115214d5"
      },
      "execution_count": 4,
      "outputs": [
        {
          "output_type": "stream",
          "name": "stderr",
          "text": [
            "Installing package into ‘/usr/local/lib/R/site-library’\n",
            "(as ‘lib’ is unspecified)\n",
            "\n"
          ]
        }
      ]
    },
    {
      "cell_type": "code",
      "source": [
        "# •\tWhat is the distribution of incidents by month?\n",
        "library(psych)\n",
        "library(dplyr)\n",
        "library(lubridate)\n",
        "data <- read.csv(\"Police_Arrests_20240702.csv\")\n",
        "data$Event.Date.Time <- month(as.Date(data$Event.Date.Time, \"%m/%d/%Y\"))\n",
        "table(data$Event.Date.Time)"
      ],
      "metadata": {
        "colab": {
          "base_uri": "https://localhost:8080/",
          "height": 69
        },
        "id": "34w5l8iEuw71",
        "outputId": "d0bd5148-4f1b-4442-814d-54f080457b07"
      },
      "execution_count": 5,
      "outputs": [
        {
          "output_type": "display_data",
          "data": {
            "text/plain": [
              "\n",
              "   1    2    3    4    5    6    7    8    9   10   11   12 \n",
              "2134 2095 2452 2148 2352 2039 1604 1695 1656 1621 1808 1906 "
            ]
          },
          "metadata": {}
        }
      ]
    },
    {
      "cell_type": "code",
      "source": [
        "# •\tHow did the number of incidents change over the years?\n",
        "library(psych)\n",
        "library(dplyr)\n",
        "library(lubridate)\n",
        "data <- read.csv(\"Police_Arrests_20240702.csv\")\n",
        "data$Year <- year(as.Date(data$Event.Date.Time, \"%m/%d/%Y\"))\n",
        "table(data$Year)"
      ],
      "metadata": {
        "colab": {
          "base_uri": "https://localhost:8080/",
          "height": 69
        },
        "id": "5uiCwU1KxAa9",
        "outputId": "c15b8351-9d4f-4898-9b04-c24bb57ece8d"
      },
      "execution_count": 7,
      "outputs": [
        {
          "output_type": "display_data",
          "data": {
            "text/plain": [
              "\n",
              "2021 2022 2023 2024 \n",
              "5885 6735 7353 3537 "
            ]
          },
          "metadata": {}
        }
      ]
    },
    {
      "cell_type": "code",
      "source": [
        "# •\tFill the missing values in the \"Assigned Bureau\" column with \"Unknown\" and verify the changes.\n",
        "library(psych)\n",
        "library(dplyr)\n",
        "data <- read.csv(\"Police_Arrests_20240702.csv\")\n",
        "# select(data, Assigned.Bureau)\n",
        "# mutate(data, Assigned.Bureau = ifelse(is.na(Assigned.Bureau), \"Unknown\", Assigned.Bureau))\n",
        "# summary(data$Assigned.Bureau)\n",
        "# a <- data$Assigned.Bureau[is.na(data$Assigned.Bureau)] <- \"unknown\"\n",
        "a <- data$Assigned.Bureau==\" \",\"Assigned.Bureau\" <- NA\n",
        "write.csv(a, \"new_report.csv\")\n"
      ],
      "metadata": {
        "colab": {
          "base_uri": "https://localhost:8080/",
          "height": 124
        },
        "id": "6Bj2w6UoyHP1",
        "outputId": "ad9d81ac-5954-43dc-e443-151ab665c11e"
      },
      "execution_count": 1,
      "outputs": [
        {
          "output_type": "error",
          "ename": "ERROR",
          "evalue": "Error in parse(text = x, srcfile = src): <text>:9:31: unexpected ','\n8: # a <- data$Assigned.Bureau[is.na(data$Assigned.Bureau)] <- \"unknown\"\n9: a <- data$Assigned.Bureau==\" \",\n                                 ^\n",
          "traceback": [
            "Error in parse(text = x, srcfile = src): <text>:9:31: unexpected ','\n8: # a <- data$Assigned.Bureau[is.na(data$Assigned.Bureau)] <- \"unknown\"\n9: a <- data$Assigned.Bureau==\" \",\n                                 ^\nTraceback:\n"
          ]
        }
      ]
    },
    {
      "cell_type": "code",
      "source": [
        "install.packages(dplyr)"
      ],
      "metadata": {
        "colab": {
          "base_uri": "https://localhost:8080/",
          "height": 106
        },
        "id": "U4G9cEJj5Mgm",
        "outputId": "05a954d9-c110-47ea-f3d5-d002fadf76b7"
      },
      "execution_count": 3,
      "outputs": [
        {
          "output_type": "error",
          "ename": "ERROR",
          "evalue": "Error in eval(expr, envir, enclos): object 'dplyr' not found\n",
          "traceback": [
            "Error in eval(expr, envir, enclos): object 'dplyr' not found\nTraceback:\n",
            "1. install.packages(dplyr)"
          ]
        }
      ]
    },
    {
      "cell_type": "code",
      "source": [
        "# •\tDetermine the proportion of incidents that occurred in each district adjacent to schools.\n",
        "library(dplyr)\n",
        "data <- read.csv(\"Police_Arrests_20240702.csv\")\n",
        "summary(data)"
      ],
      "metadata": {
        "colab": {
          "base_uri": "https://localhost:8080/",
          "height": 433
        },
        "id": "knulaZJF5gWM",
        "outputId": "9a25719c-1c17-4ff8-9bfb-15052be227ea"
      },
      "execution_count": 4,
      "outputs": [
        {
          "output_type": "display_data",
          "data": {
            "text/plain": [
              " ID.Reference.Number Subject.s.race     Subject.s.gender   Subject.s.age  \n",
              " Min.   :    1       Length:23510       Length:23510       Min.   : 1.00  \n",
              " 1st Qu.: 5878       Class :character   Class :character   1st Qu.:22.00  \n",
              " Median :11756       Mode  :character   Mode  :character   Median :30.00  \n",
              " Mean   :11756                                             Mean   :31.81  \n",
              " 3rd Qu.:17633                                             3rd Qu.:39.00  \n",
              " Max.   :23510                                             Max.   :99.00  \n",
              "                                                                          \n",
              "  Ethnicity         District.of.occurrence Adjacent.to.School\n",
              " Length:23510       Min.   :1.000          Min.   :0.00000   \n",
              " Class :character   1st Qu.:3.000          1st Qu.:0.00000   \n",
              " Mode  :character   Median :4.000          Median :0.00000   \n",
              "                    Mean   :3.989          Mean   :0.08516   \n",
              "                    3rd Qu.:5.000          3rd Qu.:0.00000   \n",
              "                    Max.   :8.000          Max.   :1.00000   \n",
              "                    NA's   :102                              \n",
              " Assigned.Division  Assigned.Bureau    Event.Date.Time   \n",
              " Length:23510       Length:23510       Length:23510      \n",
              " Class :character   Class :character   Class :character  \n",
              " Mode  :character   Mode  :character   Mode  :character  \n",
              "                                                         \n",
              "                                                         \n",
              "                                                         \n",
              "                                                         "
            ]
          },
          "metadata": {}
        }
      ]
    }
  ]
}